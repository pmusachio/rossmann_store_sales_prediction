{
 "cells": [
  {
   "cell_type": "markdown",
   "id": "7328dd5d-a076-413b-8929-3bcd6e7900a8",
   "metadata": {},
   "source": [
    "# <font color = #7B68EE> ROSSMANN Sales Store Prediction </font>"
   ]
  },
  {
   "cell_type": "markdown",
   "id": "c1409773-bd91-48b3-89ad-ddadf85ed6a3",
   "metadata": {},
   "source": [
    "- Project REPO [ROSSMANN Sales Store Prediction](https://github.com/pmusachio/rossmann_store_sales_prediction)\n",
    "- **CFO needs to plan store renovations, and to decide how much to invest in each one, he needs the daily sales forecast per store for the next 6 weeks**"
   ]
  },
  {
   "cell_type": "markdown",
   "id": "4ef6497e-446b-4c9c-998f-2d60454f3fea",
   "metadata": {},
   "source": [
    "# <font color = #7B68EE> 0.0 Imports </font>"
   ]
  },
  {
   "cell_type": "code",
   "execution_count": null,
   "id": "cfd2158b-da4f-4433-a77e-da06e462ca8e",
   "metadata": {},
   "outputs": [],
   "source": [
    "# import math\n",
    "# import numpy  as np\n",
    "# import pandas as pd\n",
    "# import random\n",
    "# import pickle\n",
    "# import requests\n",
    "# import warnings\n",
    "# import inflection\n",
    "# import seaborn as sns\n",
    "# import xgboost as xgb\n",
    "\n",
    "# from scipy                 import stats  as ss\n",
    "# from boruta                import BorutaPy\n",
    "# from matplotlib            import pyplot as plt\n",
    "# from IPython.display       import Image\n",
    "# from IPython.core.display  import HTML\n",
    "\n",
    "\n",
    "# from sklearn.metrics       import mean_absolute_error, mean_squared_error\n",
    "# from sklearn.ensemble      import RandomForestRegressor\n",
    "# from sklearn.linear_model  import LinearRegression, Lasso\n",
    "# from sklearn.preprocessing import RobustScaler, MinMaxScaler, LabelEncoder\n",
    "\n",
    "# warnings.filterwarnings( 'ignore' )"
   ]
  },
  {
   "cell_type": "code",
   "execution_count": 1,
   "id": "ddc190c8-3475-4f84-84fd-a601d22f145a",
   "metadata": {},
   "outputs": [],
   "source": [
    "import numpy  as np\n",
    "import pandas as pd\n",
    "import seaborn as sns\n",
    "from matplotlib import pyplot as plt"
   ]
  },
  {
   "cell_type": "markdown",
   "id": "871364be-c947-4ee9-817b-84b8cc80ab92",
   "metadata": {},
   "source": [
    "## 0.1 Helper Functions"
   ]
  },
  {
   "cell_type": "code",
   "execution_count": null,
   "id": "1a7e862f-e8ae-4225-ada1-1d964bc99ec6",
   "metadata": {},
   "outputs": [],
   "source": [
    "# def cross_validation( x_training, kfold, model_name, model, verbose=False ):\n",
    "#     mae_list = []\n",
    "#     mape_list = []\n",
    "#     rmse_list = []\n",
    "#     for k in reversed( range( 1, kfold+1 ) ):\n",
    "#         if verbose:\n",
    "#             print( '\\nKFold Number: {}'.format( k ) )\n",
    "#         # start and end date for validation \n",
    "#         validation_start_date = x_training['date'].max() - datetime.timedelta( days=k*6*7)\n",
    "#         validation_end_date = x_training['date'].max() - datetime.timedelta( days=(k-1)*6*7)\n",
    "\n",
    "#         # filtering dataset\n",
    "#         training = x_training[x_training['date'] < validation_start_date]\n",
    "#         validation = x_training[(x_training['date'] >= validation_start_date) & (x_training['date'] <= validation_end_date)]\n",
    "\n",
    "#         # training and validation dataset\n",
    "#         # training\n",
    "#         xtraining = training.drop( ['date', 'sales'], axis=1 ) \n",
    "#         ytraining = training['sales']\n",
    "\n",
    "#         # validation\n",
    "#         xvalidation = validation.drop( ['date', 'sales'], axis=1 )\n",
    "#         yvalidation = validation['sales']\n",
    "\n",
    "#         # model\n",
    "#         m = model.fit( xtraining, ytraining )\n",
    "\n",
    "#         # prediction\n",
    "#         yhat = m.predict( xvalidation )\n",
    "\n",
    "#         # performance\n",
    "#         m_result = ml_error( model_name, np.expm1( yvalidation ), np.expm1( yhat ) )\n",
    "\n",
    "#         # store performance of each kfold iteration\n",
    "#         mae_list.append(  m_result['MAE'] )\n",
    "#         mape_list.append( m_result['MAPE'] )\n",
    "#         rmse_list.append( m_result['RMSE'] )\n",
    "\n",
    "#     return pd.DataFrame( {'Model Name': model_name,\n",
    "#                           'MAE CV': np.round( np.mean( mae_list ), 2 ).astype( str ) + ' +/- ' + np.round( np.std( mae_list ), 2 ).astype( str ),\n",
    "#                           'MAPE CV': np.round( np.mean( mape_list ), 2 ).astype( str ) + ' +/- ' + np.round( np.std( mape_list ), 2 ).astype( str ),\n",
    "#                           'RMSE CV': np.round( np.mean( rmse_list ), 2 ).astype( str ) + ' +/- ' + np.round( np.std( rmse_list ), 2 ).astype( str ) }, index=[0] )\n",
    "\n",
    "\n",
    "# def mean_percentage_error( y, yhat ):\n",
    "#     return np.mean( ( y - yhat ) / y )\n",
    "     \n",
    "    \n",
    "# def mean_absolute_percentage_error( y, yhat ):\n",
    "#     return np.mean( np.abs( ( y - yhat ) / y ) )\n",
    "\n",
    "    \n",
    "# def ml_error( model_name, y, yhat ):\n",
    "#     mae = mean_absolute_error( y, yhat )\n",
    "#     mape = mean_absolute_percentage_error( y, yhat )\n",
    "#     rmse = np.sqrt( mean_squared_error( y, yhat ) )\n",
    "    \n",
    "#     return pd.DataFrame( { 'Model Name': model_name, \n",
    "#                            'MAE': mae, \n",
    "#                            'MAPE': mape,\n",
    "#                            'RMSE': rmse }, index=[0] )\n",
    "\n",
    "# def cramer_v( x, y ):\n",
    "#     cm = pd.crosstab( x, y ).as_matrix()\n",
    "#     n = cm.sum()\n",
    "#     r, k = cm.shape\n",
    "    \n",
    "#     chi2 = ss.chi2_contingency( cm )[0]\n",
    "#     chi2corr = max( 0, chi2 - (k-1)*(r-1)/(n-1) )\n",
    "    \n",
    "#     kcorr = k - (k-1)**2/(n-1)\n",
    "#     rcorr = r - (r-1)**2/(n-1)\n",
    "    \n",
    "#     return np.sqrt( (chi2corr/n) / ( min( kcorr-1, rcorr-1 ) ) )\n",
    "\n",
    "\n",
    "\n",
    "# def jupyter_settings():\n",
    "#     %matplotlib inline\n",
    "#     %pylab inline\n",
    "    \n",
    "#     plt.style.use( 'bmh' )\n",
    "#     plt.rcParams['figure.figsize'] = [25, 12]\n",
    "#     plt.rcParams['font.size'] = 24\n",
    "    \n",
    "#     display( HTML( '<style>.container { width:100% !important; }</style>') )\n",
    "#     pd.options.display.max_columns = None\n",
    "#     pd.options.display.max_rows = None\n",
    "#     pd.set_option( 'display.expand_frame_repr', False )\n",
    "    \n",
    "#     sns.set()"
   ]
  },
  {
   "cell_type": "code",
   "execution_count": null,
   "id": "8547748c-c57b-413c-a100-b8367658ccca",
   "metadata": {},
   "outputs": [],
   "source": [
    "# jupyter_settings()"
   ]
  },
  {
   "cell_type": "markdown",
   "id": "f359b0ee-8c26-4e73-9039-6666bb6100dd",
   "metadata": {},
   "source": [
    "## 0.2 Load data"
   ]
  },
  {
   "cell_type": "code",
   "execution_count": 4,
   "id": "9691e808-d930-434d-ae92-6e1f33910d3d",
   "metadata": {},
   "outputs": [
    {
     "ename": "FileNotFoundError",
     "evalue": "[Errno 2] No such file or directory: 'pmusachio/Downloads/repos/000-3_rossmann_store_sales_prediction/data/train.csv'",
     "output_type": "error",
     "traceback": [
      "\u001b[0;31m---------------------------------------------------------------------------\u001b[0m",
      "\u001b[0;31mFileNotFoundError\u001b[0m                         Traceback (most recent call last)",
      "Cell \u001b[0;32mIn[4], line 1\u001b[0m\n\u001b[0;32m----> 1\u001b[0m df_sales_raw \u001b[38;5;241m=\u001b[39m \u001b[43mpd\u001b[49m\u001b[38;5;241;43m.\u001b[39;49m\u001b[43mread_csv\u001b[49m\u001b[43m(\u001b[49m\u001b[43m \u001b[49m\u001b[38;5;124;43m'\u001b[39;49m\u001b[38;5;124;43mpmusachio/Downloads/repos/000-3_rossmann_store_sales_prediction/data/train.csv\u001b[39;49m\u001b[38;5;124;43m'\u001b[39;49m\u001b[43m,\u001b[49m\u001b[43m \u001b[49m\u001b[43mlow_memory\u001b[49m\u001b[38;5;241;43m=\u001b[39;49m\u001b[38;5;28;43;01mFalse\u001b[39;49;00m\u001b[43m \u001b[49m\u001b[43m)\u001b[49m\n\u001b[1;32m      2\u001b[0m df_store_raw \u001b[38;5;241m=\u001b[39m pd\u001b[38;5;241m.\u001b[39mread_csv( \u001b[38;5;124m'\u001b[39m\u001b[38;5;124mpmusachio/Downloads/repos/000-3_rossmann_store_sales_prediction/data/store.csv\u001b[39m\u001b[38;5;124m'\u001b[39m, low_memory\u001b[38;5;241m=\u001b[39m\u001b[38;5;28;01mFalse\u001b[39;00m )\n\u001b[1;32m      4\u001b[0m \u001b[38;5;66;03m# merge\u001b[39;00m\n",
      "File \u001b[0;32m~/.pyenv/versions/3.12.0/lib/python3.12/site-packages/pandas/io/parsers/readers.py:948\u001b[0m, in \u001b[0;36mread_csv\u001b[0;34m(filepath_or_buffer, sep, delimiter, header, names, index_col, usecols, dtype, engine, converters, true_values, false_values, skipinitialspace, skiprows, skipfooter, nrows, na_values, keep_default_na, na_filter, verbose, skip_blank_lines, parse_dates, infer_datetime_format, keep_date_col, date_parser, date_format, dayfirst, cache_dates, iterator, chunksize, compression, thousands, decimal, lineterminator, quotechar, quoting, doublequote, escapechar, comment, encoding, encoding_errors, dialect, on_bad_lines, delim_whitespace, low_memory, memory_map, float_precision, storage_options, dtype_backend)\u001b[0m\n\u001b[1;32m    935\u001b[0m kwds_defaults \u001b[38;5;241m=\u001b[39m _refine_defaults_read(\n\u001b[1;32m    936\u001b[0m     dialect,\n\u001b[1;32m    937\u001b[0m     delimiter,\n\u001b[0;32m   (...)\u001b[0m\n\u001b[1;32m    944\u001b[0m     dtype_backend\u001b[38;5;241m=\u001b[39mdtype_backend,\n\u001b[1;32m    945\u001b[0m )\n\u001b[1;32m    946\u001b[0m kwds\u001b[38;5;241m.\u001b[39mupdate(kwds_defaults)\n\u001b[0;32m--> 948\u001b[0m \u001b[38;5;28;01mreturn\u001b[39;00m \u001b[43m_read\u001b[49m\u001b[43m(\u001b[49m\u001b[43mfilepath_or_buffer\u001b[49m\u001b[43m,\u001b[49m\u001b[43m \u001b[49m\u001b[43mkwds\u001b[49m\u001b[43m)\u001b[49m\n",
      "File \u001b[0;32m~/.pyenv/versions/3.12.0/lib/python3.12/site-packages/pandas/io/parsers/readers.py:611\u001b[0m, in \u001b[0;36m_read\u001b[0;34m(filepath_or_buffer, kwds)\u001b[0m\n\u001b[1;32m    608\u001b[0m _validate_names(kwds\u001b[38;5;241m.\u001b[39mget(\u001b[38;5;124m\"\u001b[39m\u001b[38;5;124mnames\u001b[39m\u001b[38;5;124m\"\u001b[39m, \u001b[38;5;28;01mNone\u001b[39;00m))\n\u001b[1;32m    610\u001b[0m \u001b[38;5;66;03m# Create the parser.\u001b[39;00m\n\u001b[0;32m--> 611\u001b[0m parser \u001b[38;5;241m=\u001b[39m \u001b[43mTextFileReader\u001b[49m\u001b[43m(\u001b[49m\u001b[43mfilepath_or_buffer\u001b[49m\u001b[43m,\u001b[49m\u001b[43m \u001b[49m\u001b[38;5;241;43m*\u001b[39;49m\u001b[38;5;241;43m*\u001b[39;49m\u001b[43mkwds\u001b[49m\u001b[43m)\u001b[49m\n\u001b[1;32m    613\u001b[0m \u001b[38;5;28;01mif\u001b[39;00m chunksize \u001b[38;5;129;01mor\u001b[39;00m iterator:\n\u001b[1;32m    614\u001b[0m     \u001b[38;5;28;01mreturn\u001b[39;00m parser\n",
      "File \u001b[0;32m~/.pyenv/versions/3.12.0/lib/python3.12/site-packages/pandas/io/parsers/readers.py:1448\u001b[0m, in \u001b[0;36mTextFileReader.__init__\u001b[0;34m(self, f, engine, **kwds)\u001b[0m\n\u001b[1;32m   1445\u001b[0m     \u001b[38;5;28mself\u001b[39m\u001b[38;5;241m.\u001b[39moptions[\u001b[38;5;124m\"\u001b[39m\u001b[38;5;124mhas_index_names\u001b[39m\u001b[38;5;124m\"\u001b[39m] \u001b[38;5;241m=\u001b[39m kwds[\u001b[38;5;124m\"\u001b[39m\u001b[38;5;124mhas_index_names\u001b[39m\u001b[38;5;124m\"\u001b[39m]\n\u001b[1;32m   1447\u001b[0m \u001b[38;5;28mself\u001b[39m\u001b[38;5;241m.\u001b[39mhandles: IOHandles \u001b[38;5;241m|\u001b[39m \u001b[38;5;28;01mNone\u001b[39;00m \u001b[38;5;241m=\u001b[39m \u001b[38;5;28;01mNone\u001b[39;00m\n\u001b[0;32m-> 1448\u001b[0m \u001b[38;5;28mself\u001b[39m\u001b[38;5;241m.\u001b[39m_engine \u001b[38;5;241m=\u001b[39m \u001b[38;5;28;43mself\u001b[39;49m\u001b[38;5;241;43m.\u001b[39;49m\u001b[43m_make_engine\u001b[49m\u001b[43m(\u001b[49m\u001b[43mf\u001b[49m\u001b[43m,\u001b[49m\u001b[43m \u001b[49m\u001b[38;5;28;43mself\u001b[39;49m\u001b[38;5;241;43m.\u001b[39;49m\u001b[43mengine\u001b[49m\u001b[43m)\u001b[49m\n",
      "File \u001b[0;32m~/.pyenv/versions/3.12.0/lib/python3.12/site-packages/pandas/io/parsers/readers.py:1705\u001b[0m, in \u001b[0;36mTextFileReader._make_engine\u001b[0;34m(self, f, engine)\u001b[0m\n\u001b[1;32m   1703\u001b[0m     \u001b[38;5;28;01mif\u001b[39;00m \u001b[38;5;124m\"\u001b[39m\u001b[38;5;124mb\u001b[39m\u001b[38;5;124m\"\u001b[39m \u001b[38;5;129;01mnot\u001b[39;00m \u001b[38;5;129;01min\u001b[39;00m mode:\n\u001b[1;32m   1704\u001b[0m         mode \u001b[38;5;241m+\u001b[39m\u001b[38;5;241m=\u001b[39m \u001b[38;5;124m\"\u001b[39m\u001b[38;5;124mb\u001b[39m\u001b[38;5;124m\"\u001b[39m\n\u001b[0;32m-> 1705\u001b[0m \u001b[38;5;28mself\u001b[39m\u001b[38;5;241m.\u001b[39mhandles \u001b[38;5;241m=\u001b[39m \u001b[43mget_handle\u001b[49m\u001b[43m(\u001b[49m\n\u001b[1;32m   1706\u001b[0m \u001b[43m    \u001b[49m\u001b[43mf\u001b[49m\u001b[43m,\u001b[49m\n\u001b[1;32m   1707\u001b[0m \u001b[43m    \u001b[49m\u001b[43mmode\u001b[49m\u001b[43m,\u001b[49m\n\u001b[1;32m   1708\u001b[0m \u001b[43m    \u001b[49m\u001b[43mencoding\u001b[49m\u001b[38;5;241;43m=\u001b[39;49m\u001b[38;5;28;43mself\u001b[39;49m\u001b[38;5;241;43m.\u001b[39;49m\u001b[43moptions\u001b[49m\u001b[38;5;241;43m.\u001b[39;49m\u001b[43mget\u001b[49m\u001b[43m(\u001b[49m\u001b[38;5;124;43m\"\u001b[39;49m\u001b[38;5;124;43mencoding\u001b[39;49m\u001b[38;5;124;43m\"\u001b[39;49m\u001b[43m,\u001b[49m\u001b[43m \u001b[49m\u001b[38;5;28;43;01mNone\u001b[39;49;00m\u001b[43m)\u001b[49m\u001b[43m,\u001b[49m\n\u001b[1;32m   1709\u001b[0m \u001b[43m    \u001b[49m\u001b[43mcompression\u001b[49m\u001b[38;5;241;43m=\u001b[39;49m\u001b[38;5;28;43mself\u001b[39;49m\u001b[38;5;241;43m.\u001b[39;49m\u001b[43moptions\u001b[49m\u001b[38;5;241;43m.\u001b[39;49m\u001b[43mget\u001b[49m\u001b[43m(\u001b[49m\u001b[38;5;124;43m\"\u001b[39;49m\u001b[38;5;124;43mcompression\u001b[39;49m\u001b[38;5;124;43m\"\u001b[39;49m\u001b[43m,\u001b[49m\u001b[43m \u001b[49m\u001b[38;5;28;43;01mNone\u001b[39;49;00m\u001b[43m)\u001b[49m\u001b[43m,\u001b[49m\n\u001b[1;32m   1710\u001b[0m \u001b[43m    \u001b[49m\u001b[43mmemory_map\u001b[49m\u001b[38;5;241;43m=\u001b[39;49m\u001b[38;5;28;43mself\u001b[39;49m\u001b[38;5;241;43m.\u001b[39;49m\u001b[43moptions\u001b[49m\u001b[38;5;241;43m.\u001b[39;49m\u001b[43mget\u001b[49m\u001b[43m(\u001b[49m\u001b[38;5;124;43m\"\u001b[39;49m\u001b[38;5;124;43mmemory_map\u001b[39;49m\u001b[38;5;124;43m\"\u001b[39;49m\u001b[43m,\u001b[49m\u001b[43m \u001b[49m\u001b[38;5;28;43;01mFalse\u001b[39;49;00m\u001b[43m)\u001b[49m\u001b[43m,\u001b[49m\n\u001b[1;32m   1711\u001b[0m \u001b[43m    \u001b[49m\u001b[43mis_text\u001b[49m\u001b[38;5;241;43m=\u001b[39;49m\u001b[43mis_text\u001b[49m\u001b[43m,\u001b[49m\n\u001b[1;32m   1712\u001b[0m \u001b[43m    \u001b[49m\u001b[43merrors\u001b[49m\u001b[38;5;241;43m=\u001b[39;49m\u001b[38;5;28;43mself\u001b[39;49m\u001b[38;5;241;43m.\u001b[39;49m\u001b[43moptions\u001b[49m\u001b[38;5;241;43m.\u001b[39;49m\u001b[43mget\u001b[49m\u001b[43m(\u001b[49m\u001b[38;5;124;43m\"\u001b[39;49m\u001b[38;5;124;43mencoding_errors\u001b[39;49m\u001b[38;5;124;43m\"\u001b[39;49m\u001b[43m,\u001b[49m\u001b[43m \u001b[49m\u001b[38;5;124;43m\"\u001b[39;49m\u001b[38;5;124;43mstrict\u001b[39;49m\u001b[38;5;124;43m\"\u001b[39;49m\u001b[43m)\u001b[49m\u001b[43m,\u001b[49m\n\u001b[1;32m   1713\u001b[0m \u001b[43m    \u001b[49m\u001b[43mstorage_options\u001b[49m\u001b[38;5;241;43m=\u001b[39;49m\u001b[38;5;28;43mself\u001b[39;49m\u001b[38;5;241;43m.\u001b[39;49m\u001b[43moptions\u001b[49m\u001b[38;5;241;43m.\u001b[39;49m\u001b[43mget\u001b[49m\u001b[43m(\u001b[49m\u001b[38;5;124;43m\"\u001b[39;49m\u001b[38;5;124;43mstorage_options\u001b[39;49m\u001b[38;5;124;43m\"\u001b[39;49m\u001b[43m,\u001b[49m\u001b[43m \u001b[49m\u001b[38;5;28;43;01mNone\u001b[39;49;00m\u001b[43m)\u001b[49m\u001b[43m,\u001b[49m\n\u001b[1;32m   1714\u001b[0m \u001b[43m\u001b[49m\u001b[43m)\u001b[49m\n\u001b[1;32m   1715\u001b[0m \u001b[38;5;28;01massert\u001b[39;00m \u001b[38;5;28mself\u001b[39m\u001b[38;5;241m.\u001b[39mhandles \u001b[38;5;129;01mis\u001b[39;00m \u001b[38;5;129;01mnot\u001b[39;00m \u001b[38;5;28;01mNone\u001b[39;00m\n\u001b[1;32m   1716\u001b[0m f \u001b[38;5;241m=\u001b[39m \u001b[38;5;28mself\u001b[39m\u001b[38;5;241m.\u001b[39mhandles\u001b[38;5;241m.\u001b[39mhandle\n",
      "File \u001b[0;32m~/.pyenv/versions/3.12.0/lib/python3.12/site-packages/pandas/io/common.py:863\u001b[0m, in \u001b[0;36mget_handle\u001b[0;34m(path_or_buf, mode, encoding, compression, memory_map, is_text, errors, storage_options)\u001b[0m\n\u001b[1;32m    858\u001b[0m \u001b[38;5;28;01melif\u001b[39;00m \u001b[38;5;28misinstance\u001b[39m(handle, \u001b[38;5;28mstr\u001b[39m):\n\u001b[1;32m    859\u001b[0m     \u001b[38;5;66;03m# Check whether the filename is to be opened in binary mode.\u001b[39;00m\n\u001b[1;32m    860\u001b[0m     \u001b[38;5;66;03m# Binary mode does not support 'encoding' and 'newline'.\u001b[39;00m\n\u001b[1;32m    861\u001b[0m     \u001b[38;5;28;01mif\u001b[39;00m ioargs\u001b[38;5;241m.\u001b[39mencoding \u001b[38;5;129;01mand\u001b[39;00m \u001b[38;5;124m\"\u001b[39m\u001b[38;5;124mb\u001b[39m\u001b[38;5;124m\"\u001b[39m \u001b[38;5;129;01mnot\u001b[39;00m \u001b[38;5;129;01min\u001b[39;00m ioargs\u001b[38;5;241m.\u001b[39mmode:\n\u001b[1;32m    862\u001b[0m         \u001b[38;5;66;03m# Encoding\u001b[39;00m\n\u001b[0;32m--> 863\u001b[0m         handle \u001b[38;5;241m=\u001b[39m \u001b[38;5;28;43mopen\u001b[39;49m\u001b[43m(\u001b[49m\n\u001b[1;32m    864\u001b[0m \u001b[43m            \u001b[49m\u001b[43mhandle\u001b[49m\u001b[43m,\u001b[49m\n\u001b[1;32m    865\u001b[0m \u001b[43m            \u001b[49m\u001b[43mioargs\u001b[49m\u001b[38;5;241;43m.\u001b[39;49m\u001b[43mmode\u001b[49m\u001b[43m,\u001b[49m\n\u001b[1;32m    866\u001b[0m \u001b[43m            \u001b[49m\u001b[43mencoding\u001b[49m\u001b[38;5;241;43m=\u001b[39;49m\u001b[43mioargs\u001b[49m\u001b[38;5;241;43m.\u001b[39;49m\u001b[43mencoding\u001b[49m\u001b[43m,\u001b[49m\n\u001b[1;32m    867\u001b[0m \u001b[43m            \u001b[49m\u001b[43merrors\u001b[49m\u001b[38;5;241;43m=\u001b[39;49m\u001b[43merrors\u001b[49m\u001b[43m,\u001b[49m\n\u001b[1;32m    868\u001b[0m \u001b[43m            \u001b[49m\u001b[43mnewline\u001b[49m\u001b[38;5;241;43m=\u001b[39;49m\u001b[38;5;124;43m\"\u001b[39;49m\u001b[38;5;124;43m\"\u001b[39;49m\u001b[43m,\u001b[49m\n\u001b[1;32m    869\u001b[0m \u001b[43m        \u001b[49m\u001b[43m)\u001b[49m\n\u001b[1;32m    870\u001b[0m     \u001b[38;5;28;01melse\u001b[39;00m:\n\u001b[1;32m    871\u001b[0m         \u001b[38;5;66;03m# Binary mode\u001b[39;00m\n\u001b[1;32m    872\u001b[0m         handle \u001b[38;5;241m=\u001b[39m \u001b[38;5;28mopen\u001b[39m(handle, ioargs\u001b[38;5;241m.\u001b[39mmode)\n",
      "\u001b[0;31mFileNotFoundError\u001b[0m: [Errno 2] No such file or directory: 'pmusachio/Downloads/repos/000-3_rossmann_store_sales_prediction/data/train.csv'"
     ]
    }
   ],
   "source": [
    "df_sales_raw = pd.read_csv( 'pmusachio/Downloads/repos/000-3_rossmann_store_sales_prediction/data/train.csv', low_memory=False )\n",
    "df_store_raw = pd.read_csv( 'pmusachio/Downloads/repos/000-3_rossmann_store_sales_prediction/data/store.csv', low_memory=False )\n",
    "\n",
    "# merge\n",
    "df_raw = pd.merge( df_sales_raw, df_store_raw, how='left', on='Store' )"
   ]
  },
  {
   "cell_type": "markdown",
   "id": "c7a8c241-ef37-41bd-81d2-a35af684a733",
   "metadata": {},
   "source": [
    "# <font color = #7B68EE> 1.0 Data Description </font>"
   ]
  },
  {
   "cell_type": "code",
   "execution_count": null,
   "id": "2eefd10c-20ef-4d1a-ae07-ad74c78c89de",
   "metadata": {},
   "outputs": [],
   "source": [
    "df1 = df_raw.copy()"
   ]
  },
  {
   "cell_type": "markdown",
   "id": "e07c29b8-dd59-4eb1-9ede-cff820d453cd",
   "metadata": {},
   "source": [
    "## 1.1 Columns Rename"
   ]
  },
  {
   "cell_type": "code",
   "execution_count": null,
   "id": "eadbce4f-1082-42e7-8bf0-14e2ad2660aa",
   "metadata": {},
   "outputs": [],
   "source": [
    "cols_old = ['Store', 'DayOfWeek', 'Date', 'Sales', 'Customers', 'Open', 'Promo', 'StateHoliday', 'SchoolHoliday', \n",
    "            'StoreType', 'Assortment', 'CompetitionDistance', 'CompetitionOpenSinceMonth',\n",
    "            'CompetitionOpenSinceYear', 'Promo2', 'Promo2SinceWeek', 'Promo2SinceYear', 'PromoInterval']\n",
    "\n",
    "snakecase = lambda x: inflection.underscore( x )\n",
    "\n",
    "cols_new = list( map( snakecase, cols_old ) )\n",
    "\n",
    "# rename\n",
    "df1.columns = cols_new"
   ]
  },
  {
   "cell_type": "markdown",
   "id": "82b5e481-6d0f-4627-be8a-be0a785d4044",
   "metadata": {},
   "source": [
    "## 1.2 Data Dimensions"
   ]
  },
  {
   "cell_type": "code",
   "execution_count": null,
   "id": "54fd3005-4126-461f-a8bf-73aa5715d17d",
   "metadata": {},
   "outputs": [],
   "source": [
    "print( 'Number of Rows: {}'.format( df1.shape[0] ) )\n",
    "print( 'Number of Cols: {}'.format( df1.shape[1] ) )"
   ]
  },
  {
   "cell_type": "markdown",
   "id": "cbda89c6-1fbc-4223-a7b9-44bddadc2b5c",
   "metadata": {},
   "source": [
    "## 1.3 Data Types"
   ]
  },
  {
   "cell_type": "code",
   "execution_count": null,
   "id": "489d7eb5-4d08-4041-8ff8-9e76410f3b40",
   "metadata": {},
   "outputs": [],
   "source": [
    "df1['date'] = pd.to_datetime( df1['date'] )\n",
    "df1.dtypes"
   ]
  },
  {
   "cell_type": "markdown",
   "id": "700b5292-e3ae-405f-b79e-10b6ed86fdb0",
   "metadata": {},
   "source": [
    "## 1.4 Check NA"
   ]
  },
  {
   "cell_type": "code",
   "execution_count": null,
   "id": "2f0ec464-f34d-4e8a-86b7-a6b151f436ee",
   "metadata": {},
   "outputs": [],
   "source": [
    "df1.isna().sum()"
   ]
  },
  {
   "cell_type": "markdown",
   "id": "ff403869-ff51-403d-94de-8dda97c0b36f",
   "metadata": {},
   "source": [
    "## 1.5 Fillout/Replace NA"
   ]
  },
  {
   "cell_type": "code",
   "execution_count": null,
   "id": "8ea6fe1f-ee51-4d81-9865-4d40c44fb850",
   "metadata": {},
   "outputs": [],
   "source": [
    "df1.sample()"
   ]
  },
  {
   "cell_type": "code",
   "execution_count": null,
   "id": "3094990d-86af-4bfb-8eba-a54129ee7604",
   "metadata": {},
   "outputs": [],
   "source": [
    "#competition_distance        \n",
    "df1['competition_distance'] = df1['competition_distance'].apply( lambda x: 200000.0 if math.isnan( x ) else x )\n",
    "\n",
    "#competition_open_since_month\n",
    "df1['competition_open_since_month'] = df1.apply( lambda x: x['date'].month if math.isnan( x['competition_open_since_month'] ) else x['competition_open_since_month'], axis=1 )\n",
    "\n",
    "#competition_open_since_year \n",
    "df1['competition_open_since_year'] = df1.apply( lambda x: x['date'].year if math.isnan( x['competition_open_since_year'] ) else x['competition_open_since_year'], axis=1 )\n",
    "\n",
    "#promo2_since_week           \n",
    "df1['promo2_since_week'] = df1.apply( lambda x: x['date'].week if math.isnan( x['promo2_since_week'] ) else x['promo2_since_week'], axis=1 )\n",
    "\n",
    "#promo2_since_year           \n",
    "df1['promo2_since_year'] = df1.apply( lambda x: x['date'].year if math.isnan( x['promo2_since_year'] ) else x['promo2_since_year'], axis=1 )\n",
    "\n",
    "#promo_interval              \n",
    "month_map = {1: 'Jan',  2: 'Fev',  3: 'Mar',  4: 'Apr',  5: 'May',  6: 'Jun',  7: 'Jul',  8: 'Aug',  9: 'Sep',  10: 'Oct', 11: 'Nov', 12: 'Dec'}\n",
    "\n",
    "df1['promo_interval'].fillna(0, inplace=True )\n",
    "\n",
    "df1['month_map'] = df1['date'].dt.month.map( month_map )\n",
    "\n",
    "df1['is_promo'] = df1[['promo_interval', 'month_map']].apply( lambda x: 0 if x['promo_interval'] == 0 else 1 if x['month_map'] in x['promo_interval'].split( ',' ) else 0, axis=1 )\n"
   ]
  },
  {
   "cell_type": "code",
   "execution_count": null,
   "id": "c1494204-cdbc-436c-b260-20ce672a3680",
   "metadata": {},
   "outputs": [],
   "source": [
    "df1.isna().sum()"
   ]
  },
  {
   "cell_type": "markdown",
   "id": "52046335-4bd9-4467-8774-658c0dc2d872",
   "metadata": {},
   "source": [
    "## 1.6 Change Data Types"
   ]
  },
  {
   "cell_type": "code",
   "execution_count": null,
   "id": "b4e16fb7-87fa-4909-a486-9aef8605e200",
   "metadata": {},
   "outputs": [],
   "source": [
    "# competiton\n",
    "df1['competition_open_since_month'] = df1['competition_open_since_month'].astype( int )\n",
    "df1['competition_open_since_year'] = df1['competition_open_since_year'].astype( int )\n",
    "    \n",
    "# promo2\n",
    "df1['promo2_since_week'] = df1['promo2_since_week'].astype( int )\n",
    "df1['promo2_since_year'] = df1['promo2_since_year'].astype( int )"
   ]
  },
  {
   "cell_type": "markdown",
   "id": "a05263a5-a6c3-452d-a007-2b326866757e",
   "metadata": {},
   "source": [
    "## 1.7 Descriptive Statistics"
   ]
  },
  {
   "cell_type": "code",
   "execution_count": null,
   "id": "da685494-3959-4cbb-b177-537e79428c5b",
   "metadata": {},
   "outputs": [],
   "source": [
    "num_attributes = df1.select_dtypes( include=['int64', 'float64'] )\n",
    "cat_attributes = df1.select_dtypes( exclude=['int64', 'float64', 'datetime64[ns]'] )"
   ]
  },
  {
   "cell_type": "markdown",
   "id": "d6bd2883-9be8-4e8c-a1fc-3a4c307c0729",
   "metadata": {},
   "source": [
    "### 1.7.1 Numerical Attributes"
   ]
  },
  {
   "cell_type": "code",
   "execution_count": null,
   "id": "f5335209-58d6-40a7-a6fc-3df29a2cf6c1",
   "metadata": {},
   "outputs": [],
   "source": [
    "# Central Tendency - mean, meadina \n",
    "ct1 = pd.DataFrame( num_attributes.apply( np.mean ) ).T\n",
    "ct2 = pd.DataFrame( num_attributes.apply( np.median ) ).T\n",
    "\n",
    "# dispersion - std, min, max, range, skew, kurtosis\n",
    "d1 = pd.DataFrame( num_attributes.apply( np.std ) ).T \n",
    "d2 = pd.DataFrame( num_attributes.apply( min ) ).T \n",
    "d3 = pd.DataFrame( num_attributes.apply( max ) ).T \n",
    "d4 = pd.DataFrame( num_attributes.apply( lambda x: x.max() - x.min() ) ).T \n",
    "d5 = pd.DataFrame( num_attributes.apply( lambda x: x.skew() ) ).T \n",
    "d6 = pd.DataFrame( num_attributes.apply( lambda x: x.kurtosis() ) ).T \n",
    "\n",
    "# concatenar\n",
    "m = pd.concat( [d2, d3, d4, ct1, ct2, d1, d5, d6] ).T.reset_index()\n",
    "m.columns = ['attributes', 'min', 'max', 'range', 'mean', 'median', 'std', 'skew', 'kurtosis']\n",
    "m"
   ]
  },
  {
   "cell_type": "code",
   "execution_count": null,
   "id": "d64480c7-1efd-49dc-ab3f-7f2480eb4733",
   "metadata": {},
   "outputs": [],
   "source": [
    "sns.distplot( df1['competition_distance'], kde=False )"
   ]
  },
  {
   "cell_type": "markdown",
   "id": "1a1e8834-e57a-4b66-8dda-ba2a1aea6678",
   "metadata": {},
   "source": [
    "### 1.7.2 Categorical Attributes"
   ]
  },
  {
   "cell_type": "code",
   "execution_count": null,
   "id": "62be7c5a-2a7a-4a90-ba5c-af2ee2ae2d68",
   "metadata": {},
   "outputs": [],
   "source": [
    "cat_attributes.apply( lambda x: x.unique().shape[0] )"
   ]
  },
  {
   "cell_type": "code",
   "execution_count": null,
   "id": "73ed2000-4f65-42de-a8f9-544cd64b5bc9",
   "metadata": {},
   "outputs": [],
   "source": [
    "aux = df1[(df1['state_holiday'] != '0') & (df1['sales'] > 0)]\n",
    "\n",
    "plt.subplot( 1, 3, 1 )\n",
    "sns.boxplot( x='state_holiday', y='sales', data=aux )\n",
    "\n",
    "plt.subplot( 1, 3, 2 )\n",
    "sns.boxplot( x='store_type', y='sales', data=aux )\n",
    "\n",
    "plt.subplot( 1, 3, 3 )\n",
    "sns.boxplot( x='assortment', y='sales', data=aux )"
   ]
  },
  {
   "cell_type": "markdown",
   "id": "3d87739e-1488-4e56-93aa-14b07a9a9735",
   "metadata": {},
   "source": [
    "# <font color = #7B68EE> 2.0 Feature Engineering </font>"
   ]
  },
  {
   "cell_type": "code",
   "execution_count": null,
   "id": "7a3901f1-663a-47e3-b71b-8876dc66761e",
   "metadata": {},
   "outputs": [],
   "source": [
    "df2 = df1.copy()"
   ]
  },
  {
   "cell_type": "markdown",
   "id": "a7511748-2272-4bfe-8735-b3360347b520",
   "metadata": {},
   "source": [
    "## 2.1 Hypothesis Mindmap"
   ]
  },
  {
   "cell_type": "code",
   "execution_count": null,
   "id": "c6415bfc-cd38-4b9a-8cfa-7591f5a88d08",
   "metadata": {},
   "outputs": [],
   "source": [
    "Image( 'img/MindMapHypothesis.png' )"
   ]
  },
  {
   "cell_type": "markdown",
   "id": "635e17d3-95bd-45c2-aeed-a81718f42919",
   "metadata": {},
   "source": [
    "## 2.2 Hypothesis Creation"
   ]
  },
  {
   "cell_type": "markdown",
   "id": "8c28543d-3eb7-4ccb-b121-dc3ed652848b",
   "metadata": {},
   "source": [
    "| # | Store | Product | Time |\n",
    "|---|-------|---------|------|\n",
    "| 1 | Stores with a larger number of employees should sell more | Stores that invest more in Marketing should sell more | <font color = GREEN> **Stores open during the Christmas holiday should sell more** </font> |\n",
    "| 2 | Stores with greater stock capacity should sell more | Stores with greater product display should sell more | <font color = GREEN> **Stores should sell more over the years** </font> |\n",
    "| 3 | Larger stores should sell more | Stores with lower priced products should sell more | <font color = GREEN> **Stores should sell more in the second half of the year** </font> |\n",
    "| 4 | <font color = GREEN> **Stores with larger assortments should sell more** </font> | Stores with more aggressive promotions (bigger discounts) should sell more | <font color = GREEN> **Stores should sell more after the 10th of each month** </font> |\n",
    "| 5 | <font color = GREEN> **Stores with closer competitors should sell less** </font> | <font color = GREEN> **Stores with active promotions for longer should sell more** </font> | <font color = GREEN> **Stores should sell less on weekends** </font> |\n",
    "| 6 | <font color = GREEN> **Stores with longer competitors should sell more** </font> | <font color = GREEN> **Stores with more promotion days should sell more** </font> | <font color = GREEN> **Stores should sell less during school holidays** </font> |\n",
    "| 7 | | <font color = GREEN> **Stores with more consecutive promotions should sell more** </font> | |"
   ]
  },
  {
   "cell_type": "markdown",
   "id": "a6ba2095-e280-48d0-a74b-ff1ccef9e98a",
   "metadata": {},
   "source": [
    "## 2.3 Feature Creation"
   ]
  },
  {
   "cell_type": "code",
   "execution_count": null,
   "id": "9c6bcc0a-e003-4332-a383-48fa34174544",
   "metadata": {},
   "outputs": [],
   "source": [
    "# year\n",
    "df2['year'] = df2['date'].dt.year\n",
    "\n",
    "# month\n",
    "df2['month'] = df2['date'].dt.month\n",
    "\n",
    "# day\n",
    "df2['day'] = df2['date'].dt.day\n",
    "\n",
    "# week of year\n",
    "df2['week_of_year'] = df2['date'].dt.weekofyear\n",
    "\n",
    "# year week\n",
    "df2['year_week'] = df2['date'].dt.strftime( '%Y-%W' )\n",
    "\n",
    "# competition since\n",
    "df2['competition_since'] = df2.apply( lambda x: datetime.datetime( year=x['competition_open_since_year'], month=x['competition_open_since_month'],day=1 ), axis=1 )\n",
    "df2['competition_time_month'] = ( ( df2['date'] - df2['competition_since'] )/30 ).apply( lambda x: x.days ).astype( int )\n",
    "\n",
    "# promo since\n",
    "df2['promo_since'] = df2['promo2_since_year'].astype( str ) + '-' + df2['promo2_since_week'].astype( str )\n",
    "df2['promo_since'] = df2['promo_since'].apply( lambda x: datetime.datetime.strptime( x + '-1', '%Y-%W-%w' ) - datetime.timedelta( days=7 ) )\n",
    "df2['promo_time_week'] = ( ( df2['date'] - df2['promo_since'] )/7 ).apply( lambda x: x.days ).astype( int )\n",
    "\n",
    "# assortment\n",
    "df2['assortment'] = df2['assortment'].apply( lambda x: 'basic' if x == 'a' else 'extra' if x == 'b' else 'extended' )\n",
    "\n",
    "# state holiday\n",
    "df2['state_holiday'] = df2['state_holiday'].apply( lambda x: 'public_holiday' if x == 'a' else 'easter_holiday' if x == 'b' else 'christmas' if x == 'c' else 'regular_day' )"
   ]
  },
  {
   "cell_type": "markdown",
   "id": "0d7504c3-45f8-4cf2-b19a-0163586a8be3",
   "metadata": {},
   "source": [
    "# <font color = #7B68EE> 3.0 Data Filtering </font>"
   ]
  },
  {
   "cell_type": "code",
   "execution_count": null,
   "id": "11bd2dca-81c2-4880-8b20-79018444f4da",
   "metadata": {},
   "outputs": [],
   "source": [
    "df3 = df2.copy()"
   ]
  },
  {
   "cell_type": "markdown",
   "id": "16415f63-8a30-4e18-9f74-702e270cac53",
   "metadata": {},
   "source": [
    "## 3.1 Filtering Rows"
   ]
  },
  {
   "cell_type": "code",
   "execution_count": null,
   "id": "64959d94-8e4f-4b31-b6d5-ca77e3da01e6",
   "metadata": {},
   "outputs": [],
   "source": [
    "df3 = df3[(df3['open'] != 0) & (df3['sales'] > 0)]"
   ]
  },
  {
   "cell_type": "markdown",
   "id": "dc7b33ec-bbd7-442c-989a-b472e1ae46a3",
   "metadata": {},
   "source": [
    "## 3.2 Columns Selection"
   ]
  },
  {
   "cell_type": "code",
   "execution_count": null,
   "id": "392f1e8a-4bc5-4826-a9f9-0554ce89630e",
   "metadata": {},
   "outputs": [],
   "source": [
    "cols_drop = ['customers', 'open', 'promo_interval', 'month_map']\n",
    "df3 = df3.drop( cols_drop, axis=1 )"
   ]
  },
  {
   "cell_type": "markdown",
   "id": "8d3ae605-0287-4061-a741-ea17bf4add92",
   "metadata": {},
   "source": [
    "# <font color = #7B68EE> 4.0 Exploratoria Data Analysis </font>"
   ]
  },
  {
   "cell_type": "code",
   "execution_count": null,
   "id": "7edfec95-43d3-46d4-b578-1b8fdf6eb356",
   "metadata": {},
   "outputs": [],
   "source": [
    "df4 = df3.copy()"
   ]
  },
  {
   "cell_type": "markdown",
   "id": "9adf90bd-f66d-4df1-bfb9-eb5710c590ef",
   "metadata": {},
   "source": [
    "## 4.1 Univariate Analysis"
   ]
  },
  {
   "cell_type": "markdown",
   "id": "a644525b-b8a9-4cb1-bbc5-0d1d88dd6117",
   "metadata": {},
   "source": [
    "### 4.1.1 Response Variable"
   ]
  },
  {
   "cell_type": "code",
   "execution_count": null,
   "id": "d15a2189-b1f8-4a52-80fa-bad6cc0471e0",
   "metadata": {},
   "outputs": [],
   "source": [
    "sns.distplot( df4['sales'], kde=False  )"
   ]
  },
  {
   "cell_type": "markdown",
   "id": "ea02d454-4f04-4f81-a021-be903cd5142c",
   "metadata": {},
   "source": [
    "### 4.1.2 Numerical Variable"
   ]
  },
  {
   "cell_type": "code",
   "execution_count": null,
   "id": "b4af4363-204a-4388-9c05-77bafec28c89",
   "metadata": {},
   "outputs": [],
   "source": [
    "num_attributes.hist( bins=25 );"
   ]
  },
  {
   "cell_type": "markdown",
   "id": "08a749fb-47af-4741-a0c5-d139122ca300",
   "metadata": {},
   "source": [
    "### 4.1.3 Categorical Variable"
   ]
  },
  {
   "cell_type": "code",
   "execution_count": null,
   "id": "acef5add-388d-430f-8e74-f937ee15d25a",
   "metadata": {},
   "outputs": [],
   "source": [
    "# state_holiday\n",
    "plt.subplot( 3, 2, 1 )\n",
    "a = df4[df4['state_holiday'] != 'regular_day']\n",
    "sns.countplot( a['state_holiday'] )\n",
    "\n",
    "plt.subplot( 3, 2, 2 )\n",
    "sns.kdeplot( df4[df4['state_holiday'] == 'public_holiday']['sales'], label='public_holiday', shade=True )\n",
    "sns.kdeplot( df4[df4['state_holiday'] == 'easter_holiday']['sales'], label='easter_holiday', shade=True )\n",
    "sns.kdeplot( df4[df4['state_holiday'] == 'christmas']['sales'], label='christmas', shade=True )\n",
    "\n",
    "# store_type\n",
    "plt.subplot( 3, 2, 3 )\n",
    "sns.countplot( df4['store_type'] )\n",
    "\n",
    "plt.subplot( 3, 2, 4 )\n",
    "sns.kdeplot( df4[df4['store_type'] == 'a']['sales'], label='a', shade=True )\n",
    "sns.kdeplot( df4[df4['store_type'] == 'b']['sales'], label='b', shade=True )\n",
    "sns.kdeplot( df4[df4['store_type'] == 'c']['sales'], label='c', shade=True )\n",
    "sns.kdeplot( df4[df4['store_type'] == 'd']['sales'], label='d', shade=True )\n",
    "\n",
    "# assortment\n",
    "plt.subplot( 3, 2, 5 )\n",
    "sns.countplot( df4['assortment'] )\n",
    "\n",
    "plt.subplot( 3, 2, 6 )\n",
    "sns.kdeplot( df4[df4['assortment'] == 'extended']['sales'], label='extended', shade=True )\n",
    "sns.kdeplot( df4[df4['assortment'] == 'basic']['sales'], label='basic', shade=True )\n",
    "sns.kdeplot( df4[df4['assortment'] == 'extra']['sales'], label='extra', shade=True )"
   ]
  },
  {
   "cell_type": "code",
   "execution_count": null,
   "id": "dc47d3a3-0940-4083-bf98-0ec35dad5e25",
   "metadata": {},
   "outputs": [],
   "source": []
  },
  {
   "cell_type": "markdown",
   "id": "3951f64f-07fc-4ac2-a6b8-4562100e5f2d",
   "metadata": {},
   "source": [
    "## 4.2 Hypothesis Validation"
   ]
  },
  {
   "cell_type": "code",
   "execution_count": null,
   "id": "3e0897e3-7b13-4555-b529-061b4f14f1f5",
   "metadata": {},
   "outputs": [],
   "source": [
    "plt.suptitle(\"h01 - Stores with larger assortments should sell more\"\n",
    "             \"Conclusion <font color = RED> FALSE </font> Stores with BIGGER ASSORTMENT sell LESS\", y=1.02)"
   ]
  },
  {
   "cell_type": "code",
   "execution_count": null,
   "id": "508fb980-69fb-483b-b573-2c2f52af261f",
   "metadata": {},
   "outputs": [],
   "source": [
    "plt.suptitle(\"h02 - Stores with closer competitors should sell less\"\n",
    "             \"Conclusion <font color = RED> FALSE </font> Stores with CLOSER COMPETITORS sell MORE\", y=1.02)"
   ]
  },
  {
   "cell_type": "code",
   "execution_count": null,
   "id": "b853e07b-19ef-4d4d-87ca-8256eefb028a",
   "metadata": {},
   "outputs": [],
   "source": [
    "plt.suptitle(\"h03 - Stores with longer competitors should sell more\"\n",
    "             \"Conclusion <font color = RED> FALSE </font> Stores with LONGER COMPETITORS sell LESS\", y=1.02)"
   ]
  },
  {
   "cell_type": "code",
   "execution_count": null,
   "id": "12debddb-58f5-4259-a681-7183f28d31de",
   "metadata": {},
   "outputs": [],
   "source": [
    "plt.suptitle(\"h04 - Stores with active promotions for longer should sell more\"\n",
    "             \"Conclusion <font color = RED> FALSE </font> Stores with active promotions for longer sell less after a certain period of promotion\", y=1.02)"
   ]
  },
  {
   "cell_type": "code",
   "execution_count": null,
   "id": "041a8070-902a-47a5-9994-6cd0283bb084",
   "metadata": {},
   "outputs": [],
   "source": [
    "plt.suptitle(\"h06 - Stores with more consecutive promotions should sell more\"\n",
    "             \"Conclusion <font color = RED> FALSE </font> Stores with more consecutive promotions sell less\", y=1.02)"
   ]
  },
  {
   "cell_type": "code",
   "execution_count": null,
   "id": "d5e063ed-1962-462a-907f-f8becc8b5a10",
   "metadata": {},
   "outputs": [],
   "source": [
    "plt.suptitle(\"h07 - Stores open during the Christmas holiday should sell more\"\n",
    "             \"Conclusion <font color = RED> FALSE </font> Stores open during the Christmas holiday sell less\", y=1.02)"
   ]
  },
  {
   "cell_type": "code",
   "execution_count": null,
   "id": "494969fd-eab8-4d65-ba82-fa294c554ac0",
   "metadata": {},
   "outputs": [],
   "source": [
    "plt.suptitle(\"h08 - Stores should sell more over the years\"\n",
    "             \"Conclusion <font color = RED> FALSE </font> Stores sell less over the years\", y=1.02)"
   ]
  },
  {
   "cell_type": "code",
   "execution_count": null,
   "id": "0068512f-7497-441b-a57a-deb76b12a2c5",
   "metadata": {},
   "outputs": [],
   "source": [
    "plt.suptitle(\"h09 - Stores should sell more in the second half of the year\"\n",
    "             \"Conclusion <font color = RED> FALSE </font> Stores sell less in the second half of the year\", y=1.02)"
   ]
  },
  {
   "cell_type": "code",
   "execution_count": null,
   "id": "a7564bcd-e8ab-4d37-a796-303c164bc24d",
   "metadata": {},
   "outputs": [],
   "source": [
    "plt.suptitle(\"h10 - Stores should sell more after the 1\"0th of each month\"\n",
    "             \"Conclusion <font color = GREEN> **TRUE**\" </font> Stores sell more after the 10th of each month\", y=1.02)"
   ]
  },
  {
   "cell_type": "code",
   "execution_count": null,
   "id": "2baea52c-aaee-4326-80aa-567f69dfd1ff",
   "metadata": {},
   "outputs": [],
   "source": [
    "plt.suptitle(\"h11 - Stores should sell less on weekends\"\n",
    "             \"Conclusion <font color = GREEN> **TRUE**\" </font> Stores sell less on the weekend\", y=1.02)"
   ]
  },
  {
   "cell_type": "code",
   "execution_count": null,
   "id": "c56fa3c7-9e49-435f-acf3-0031df9a37d0",
   "metadata": {},
   "outputs": [],
   "source": [
    "plt.suptitle(\"h12 - Stores should sell less during scho\"ol holidays\"\n",
    "             \"Conclusion <font color = GREEN> **TRUE**\" </font> Stores sell less during school holidays, except the months of July and August\", y=1.02)"
   ]
  },
  {
   "cell_type": "markdown",
   "id": "4925a173-814c-4562-9015-8df5dced25d7",
   "metadata": {},
   "source": [
    "| #   | Hypothesis                                                | Conclusion                            | Comment |\n",
    "|-----|-----------------------------------------------------------|---------------------------------------|---------|\n",
    "| h01 | Stores with larger assortments should sell more           | <font color = RED> FALSE </font>      | Stores with BIGGER ASSORTMENT sell LESS |\n",
    "| h02 | Stores with closer competitors should sell less           | <font color = RED> FALSE </font>      | Stores with CLOSER COMPETITORS sell MORE |\n",
    "| h03 | Stores with longer competitors should sell more           | <font color = RED> FALSE </font>      | Stores with LONGER COMPETITORS sell LESS |\n",
    "| h04 | Stores with active promotions for longer should sell more | <font color = RED> FALSE </font>      | Stores with active promotions for longer sell less after a certain period of promotion |\n",
    "| h05 | ~~Stores with more promotion days should sell more~~      |                                       |  |\n",
    "| h06 | Stores with more consecutive promotions should sell more  | <font color = RED> FALSE </font>      | Stores with more consecutive promotions sell less |\n",
    "| h07 | Stores open during the Christmas holiday should sell more | <font color = RED> FALSE </font>      | Stores open during the Christmas holiday sell less |\n",
    "| h08 | Stores should sell more over the years                    | <font color = RED> FALSE </font>      | Stores sell less over the years |\n",
    "| h09 | Stores should sell more in the second half of the year    | <font color = RED> FALSE </font>      | Stores sell less in the second half of the year |\n",
    "| h10 | Stores should sell more after the 10th of each month      | <font color = GREEN> **TRUE** </font> | Stores sell more after the 10th of each month |\n",
    "| h11 | Stores should sell less on weekends                       | <font color = GREEN> **TRUE** </font> | Stores sell less on the weekend |\n",
    "| h12 | Stores should sell less during school holidays            | <font color = GREEN> **TRUE** </font> | Stores sell less during school holidays, except the months of July and August |"
   ]
  },
  {
   "cell_type": "markdown",
   "id": "8f726ef2-41ef-4972-a8df-cce7c8693727",
   "metadata": {},
   "source": [
    "## 4.3 Multivariate Analysis"
   ]
  },
  {
   "cell_type": "code",
   "execution_count": null,
   "id": "1a94d7fb-9b26-437c-b2ec-b2b1750b5095",
   "metadata": {},
   "outputs": [],
   "source": []
  },
  {
   "cell_type": "markdown",
   "id": "f7941055-aa07-4253-8428-6d76cfe2c5c8",
   "metadata": {},
   "source": [
    "### 4.3.1 Numerical Attributes"
   ]
  },
  {
   "cell_type": "code",
   "execution_count": null,
   "id": "434dd6c8-956a-4bdc-9992-8fc05625889f",
   "metadata": {},
   "outputs": [],
   "source": []
  },
  {
   "cell_type": "markdown",
   "id": "30033d94-660f-44f5-b1d2-2b417ce10357",
   "metadata": {},
   "source": [
    "### 4.3.2 Categorical Attributes"
   ]
  },
  {
   "cell_type": "code",
   "execution_count": null,
   "id": "e66bf5fb-d67f-485b-999d-d70610a09675",
   "metadata": {},
   "outputs": [],
   "source": []
  },
  {
   "cell_type": "markdown",
   "id": "ae009a38-9581-4076-9abf-7d05b8e407a9",
   "metadata": {},
   "source": [
    "# <font color = #7B68EE> 5.0 Data Preparation </font>"
   ]
  },
  {
   "cell_type": "code",
   "execution_count": null,
   "id": "cfd935f5-4d11-4610-80b8-08afaf72b874",
   "metadata": {},
   "outputs": [],
   "source": [
    "df5 = df4.copy()"
   ]
  },
  {
   "cell_type": "code",
   "execution_count": null,
   "id": "9a3c9f7c-d782-4528-9f49-e69a34ba4dc8",
   "metadata": {},
   "outputs": [],
   "source": []
  },
  {
   "cell_type": "markdown",
   "id": "c60d9dc8-8d78-4492-8987-f88a6a87cd32",
   "metadata": {},
   "source": [
    "## 5.1 Standardization"
   ]
  },
  {
   "cell_type": "code",
   "execution_count": null,
   "id": "75735bd6-6b58-4016-a224-002a9003c821",
   "metadata": {},
   "outputs": [],
   "source": []
  },
  {
   "cell_type": "markdown",
   "id": "6d8d82f4-14c3-4d84-afdc-3899dce1189c",
   "metadata": {},
   "source": [
    "## 5.2 Rescaling"
   ]
  },
  {
   "cell_type": "code",
   "execution_count": null,
   "id": "d4c64447-e42c-4b17-804f-fe7dcc9092c0",
   "metadata": {},
   "outputs": [],
   "source": []
  },
  {
   "cell_type": "markdown",
   "id": "b5af4df8-ea91-4ca0-9a9c-c065b4a5c229",
   "metadata": {},
   "source": [
    "## 5.3 Transformation"
   ]
  },
  {
   "cell_type": "code",
   "execution_count": null,
   "id": "aa3551cf-75f3-473d-8d3f-553823992259",
   "metadata": {},
   "outputs": [],
   "source": []
  },
  {
   "cell_type": "markdown",
   "id": "ba93543b-30a7-46f7-9859-62a352eca101",
   "metadata": {},
   "source": [
    "### 5.3.1 Encoding"
   ]
  },
  {
   "cell_type": "code",
   "execution_count": null,
   "id": "bd1d2f61-2d5d-4125-a0f1-565be234f7da",
   "metadata": {},
   "outputs": [],
   "source": []
  },
  {
   "cell_type": "markdown",
   "id": "9d8fe2e7-f3d0-4b20-8e82-8bbc6ec3a4c4",
   "metadata": {},
   "source": [
    "### 5.3.2 Response Variable Transformation"
   ]
  },
  {
   "cell_type": "code",
   "execution_count": null,
   "id": "20f7fdda-05e2-4910-a079-f8860d1e9ee6",
   "metadata": {},
   "outputs": [],
   "source": []
  },
  {
   "cell_type": "markdown",
   "id": "37f4aa71-1353-41dc-b50d-b6f13e898fb1",
   "metadata": {},
   "source": [
    "### 5.3.3 Magnitude Transformation - Variável Resposta"
   ]
  },
  {
   "cell_type": "code",
   "execution_count": null,
   "id": "c357b910-606b-4d60-b4f1-ff3429fda692",
   "metadata": {},
   "outputs": [],
   "source": []
  },
  {
   "cell_type": "markdown",
   "id": "e48f5ba8-2d28-40cd-bbc8-0b870e45fbc4",
   "metadata": {},
   "source": [
    "### 5.3.4 Nature Transformation"
   ]
  },
  {
   "cell_type": "code",
   "execution_count": null,
   "id": "931df5c3-39e0-43b7-92c5-45cc66efd3df",
   "metadata": {},
   "outputs": [],
   "source": []
  },
  {
   "cell_type": "markdown",
   "id": "fbde43d7-8bc2-40ad-89e3-9b80d17848b6",
   "metadata": {},
   "source": [
    "## 5.4 Preparing Validation Data"
   ]
  },
  {
   "cell_type": "code",
   "execution_count": null,
   "id": "2c2dc9ad-2e37-4be0-9fbd-142b3c505e14",
   "metadata": {},
   "outputs": [],
   "source": []
  },
  {
   "cell_type": "markdown",
   "id": "1d9f1280-24ff-4267-8399-fe530107685d",
   "metadata": {},
   "source": [
    "# <font color = #7B68EE> 6.0 Feature Selection </font>"
   ]
  },
  {
   "cell_type": "code",
   "execution_count": null,
   "id": "f4708178-3373-4b38-99b5-82012b6e1fc2",
   "metadata": {},
   "outputs": [],
   "source": [
    "df6 = df5.copy()"
   ]
  },
  {
   "cell_type": "code",
   "execution_count": null,
   "id": "56878989-fcf6-4427-ae5b-58d25f902556",
   "metadata": {},
   "outputs": [],
   "source": []
  },
  {
   "cell_type": "markdown",
   "id": "cc556690-c5f7-4490-a8a8-36108b7e364b",
   "metadata": {},
   "source": [
    "## 6.1 Split dataframe Training/Test"
   ]
  },
  {
   "cell_type": "code",
   "execution_count": null,
   "id": "3e04d7b8-8caa-477c-8e2b-fb7d9a32249f",
   "metadata": {},
   "outputs": [],
   "source": []
  },
  {
   "cell_type": "markdown",
   "id": "601d249e-218e-4fda-b8c2-14487edec93c",
   "metadata": {},
   "source": [
    "## 6.2 Feature Selector"
   ]
  },
  {
   "cell_type": "code",
   "execution_count": null,
   "id": "f4fdbfac-6d6a-44b8-b3c0-c9e41ceb555e",
   "metadata": {},
   "outputs": [],
   "source": []
  },
  {
   "cell_type": "markdown",
   "id": "fffe7452-2cce-4b7d-a153-49e6346dce14",
   "metadata": {},
   "source": [
    "### 6.2.1 Feature Selector Algorithm (boruta, xtra trees)"
   ]
  },
  {
   "cell_type": "code",
   "execution_count": null,
   "id": "b713f745-f30a-4485-9bd3-a96f6bc1ee5f",
   "metadata": {},
   "outputs": [],
   "source": []
  },
  {
   "cell_type": "markdown",
   "id": "feb88a45-9d3b-426e-b48c-b10059fd5966",
   "metadata": {},
   "source": [
    "### 6.2.2 Feature Importance"
   ]
  },
  {
   "cell_type": "code",
   "execution_count": null,
   "id": "b33f5104-17af-4586-bc92-59d587ba4a7e",
   "metadata": {},
   "outputs": [],
   "source": []
  },
  {
   "cell_type": "markdown",
   "id": "11450bc0-07a6-432e-9b9b-417974e372a3",
   "metadata": {},
   "source": [
    "## 6.3 Manual Feature Selection"
   ]
  },
  {
   "cell_type": "code",
   "execution_count": null,
   "id": "3c11f726-b1b3-4d6f-ba3f-807b847ab29c",
   "metadata": {},
   "outputs": [],
   "source": []
  },
  {
   "cell_type": "markdown",
   "id": "4287ba33-2310-4e9b-8185-3e6516541417",
   "metadata": {},
   "source": [
    "# <font color = #7B68EE> 7.0 Machine Learning Modelling </font>"
   ]
  },
  {
   "cell_type": "code",
   "execution_count": null,
   "id": "03b16444-93b5-4a89-9eeb-9086644df6fb",
   "metadata": {},
   "outputs": [],
   "source": [
    "df7 = df6.copy()"
   ]
  },
  {
   "cell_type": "code",
   "execution_count": null,
   "id": "39299246-6c92-4980-9ebc-d05d060101a4",
   "metadata": {},
   "outputs": [],
   "source": []
  },
  {
   "cell_type": "markdown",
   "id": "1e311a01-956a-4336-97a1-fb0e46043521",
   "metadata": {},
   "source": [
    "## 7.1 Data Preparation"
   ]
  },
  {
   "cell_type": "code",
   "execution_count": null,
   "id": "fb117ce6-2cdd-411e-88fc-d2e7148c4eea",
   "metadata": {},
   "outputs": [],
   "source": []
  },
  {
   "cell_type": "markdown",
   "id": "40d92445-b189-4a43-aee4-f55cf32850ee",
   "metadata": {},
   "source": [
    "## 7.2 Algorithms ML"
   ]
  },
  {
   "cell_type": "code",
   "execution_count": null,
   "id": "f8d9f918-c880-4f0e-9ee7-2426c6a3f665",
   "metadata": {},
   "outputs": [],
   "source": []
  },
  {
   "cell_type": "markdown",
   "id": "449e8d95-36eb-4798-9087-731387fa17e4",
   "metadata": {},
   "source": [
    "## 7.2.1 Model 1, Treinamento, Previsao"
   ]
  },
  {
   "cell_type": "code",
   "execution_count": null,
   "id": "2c22a535-a594-4e22-ae37-a9eaa0548dfb",
   "metadata": {},
   "outputs": [],
   "source": []
  },
  {
   "cell_type": "markdown",
   "id": "7533cc74-e93b-49fd-83c6-00dd90ff1653",
   "metadata": {},
   "source": [
    "## 7.2.2 Model 2, Treinamento, Previsao"
   ]
  },
  {
   "cell_type": "code",
   "execution_count": null,
   "id": "47c89e86-d434-4a00-a806-a40a5f12d5ed",
   "metadata": {},
   "outputs": [],
   "source": []
  },
  {
   "cell_type": "markdown",
   "id": "e2e6f736-5c86-41ec-98ac-6da00a088189",
   "metadata": {},
   "source": [
    "## 7.2.3 Model 3, Treinamento, Previsao"
   ]
  },
  {
   "cell_type": "code",
   "execution_count": null,
   "id": "f353624a-844f-4708-a99b-aca2b38991d5",
   "metadata": {},
   "outputs": [],
   "source": []
  },
  {
   "cell_type": "markdown",
   "id": "87062acb-d1e7-4559-a8f7-76909c0141eb",
   "metadata": {},
   "source": [
    "## 7.3 Compare Model's Performance"
   ]
  },
  {
   "cell_type": "code",
   "execution_count": null,
   "id": "853e3546-6fc5-42b9-88ff-9cbaac544a8a",
   "metadata": {},
   "outputs": [],
   "source": []
  },
  {
   "cell_type": "markdown",
   "id": "a29cfc09-c6da-4a9e-96be-d422cf0b20a2",
   "metadata": {},
   "source": [
    "### 7.3.1 Single Performance (W/O Cross-Validation)"
   ]
  },
  {
   "cell_type": "code",
   "execution_count": null,
   "id": "df98122c-0ffe-4e2a-b4c6-5f5992c4f88a",
   "metadata": {},
   "outputs": [],
   "source": []
  },
  {
   "cell_type": "markdown",
   "id": "e9a76e78-c3fc-4010-99e6-7d54532ea3c4",
   "metadata": {},
   "source": [
    "### 7.3.2 Real Performance (W/ Cross-Validation)"
   ]
  },
  {
   "cell_type": "code",
   "execution_count": null,
   "id": "6222f252-35cb-4e91-85e1-eedd5e0d4b4c",
   "metadata": {},
   "outputs": [],
   "source": []
  },
  {
   "cell_type": "markdown",
   "id": "75de1ca4-5367-46d5-a32b-2b0ceeaab29a",
   "metadata": {},
   "source": [
    "## 7.4 Cumulative Gain"
   ]
  },
  {
   "cell_type": "code",
   "execution_count": null,
   "id": "50d1ae49-7dd7-4aea-8b27-e20593c72d6c",
   "metadata": {},
   "outputs": [],
   "source": []
  },
  {
   "cell_type": "markdown",
   "id": "e83b08a9-9698-4da6-911b-e88e7126fa0f",
   "metadata": {},
   "source": [
    "# <font color = #7B68EE> 8.0 Hyperparameter Fine-Tunning </font>"
   ]
  },
  {
   "cell_type": "code",
   "execution_count": null,
   "id": "fb5a05b0-21e8-42c5-a367-9399238ca3a3",
   "metadata": {},
   "outputs": [],
   "source": [
    "df8 = df7.copy()"
   ]
  },
  {
   "cell_type": "code",
   "execution_count": null,
   "id": "14645537-17dc-45da-95fd-a7e4f237ff5d",
   "metadata": {},
   "outputs": [],
   "source": []
  },
  {
   "cell_type": "markdown",
   "id": "36d7eb46-ab2d-4b07-a59b-9db61daafd8c",
   "metadata": {},
   "source": [
    "## 8.1 Usando o Optuna"
   ]
  },
  {
   "cell_type": "code",
   "execution_count": null,
   "id": "75ea576b-e05d-4654-895d-1bd13f49aadb",
   "metadata": {},
   "outputs": [],
   "source": []
  },
  {
   "cell_type": "markdown",
   "id": "d32bcd45-ec5a-4596-a2ec-b3b33e60f848",
   "metadata": {},
   "source": [
    "## 8.2 Final Model (modelo, treinamento, previsao, performance)"
   ]
  },
  {
   "cell_type": "code",
   "execution_count": null,
   "id": "20459460-5665-494d-b44f-a2adac73f06b",
   "metadata": {},
   "outputs": [],
   "source": []
  },
  {
   "cell_type": "markdown",
   "id": "1c896b05-88e4-4e79-b3eb-7eeb809d1bdf",
   "metadata": {},
   "source": [
    "# <font color = #7B68EE> 9.0 Performance Metrics </font>"
   ]
  },
  {
   "cell_type": "code",
   "execution_count": null,
   "id": "a3efcda1-d70c-4f67-9b7d-822178152cfb",
   "metadata": {},
   "outputs": [],
   "source": [
    "df9 = df8.copy()"
   ]
  },
  {
   "cell_type": "code",
   "execution_count": null,
   "id": "b45b1175-24e7-4263-b157-9bd1afc6719d",
   "metadata": {},
   "outputs": [],
   "source": []
  },
  {
   "cell_type": "markdown",
   "id": "3e87f87f-2ed6-4f27-b199-9798c476f6cf",
   "metadata": {},
   "source": [
    "- Cummulative Curve Manually\n",
    "- Lift Curve Manually\n",
    "- ROI Curve Manually"
   ]
  },
  {
   "cell_type": "code",
   "execution_count": null,
   "id": "853d3e3e-cb13-4cb5-a40b-086a25b9b8e8",
   "metadata": {},
   "outputs": [],
   "source": []
  },
  {
   "cell_type": "markdown",
   "id": "4b011bed-7b9b-4cb6-8175-b50f5a8b2a53",
   "metadata": {},
   "source": [
    "## 9.1 Business Performance"
   ]
  },
  {
   "cell_type": "code",
   "execution_count": null,
   "id": "4371068b-dd2b-47c3-92bd-5474b28094e2",
   "metadata": {},
   "outputs": [],
   "source": []
  },
  {
   "cell_type": "markdown",
   "id": "225b91f9-a96d-401c-849e-43d5c4ae7ffe",
   "metadata": {},
   "source": [
    "## 9.2 Total Performance"
   ]
  },
  {
   "cell_type": "code",
   "execution_count": null,
   "id": "672db861-2886-4e5b-9afb-7eafab3780f9",
   "metadata": {},
   "outputs": [],
   "source": []
  },
  {
   "cell_type": "markdown",
   "id": "bc25127c-5aa4-4dd5-9499-829517203096",
   "metadata": {},
   "source": [
    "## 9.3 Machine Learning Performance"
   ]
  },
  {
   "cell_type": "code",
   "execution_count": null,
   "id": "8cea32c7-d09b-4978-af1a-5bceb60c9c59",
   "metadata": {},
   "outputs": [],
   "source": []
  },
  {
   "cell_type": "markdown",
   "id": "77826e64-c04e-45fa-8b9f-bc143f2e4705",
   "metadata": {},
   "source": [
    "# <font color = #7B68EE> 10.0 Deploy to Production </font>"
   ]
  },
  {
   "cell_type": "code",
   "execution_count": null,
   "id": "9e40a905-2add-47eb-bd68-33e53d066abf",
   "metadata": {},
   "outputs": [],
   "source": [
    "df10 = df9.copy()"
   ]
  },
  {
   "cell_type": "code",
   "execution_count": null,
   "id": "cbb838ca-58b7-4781-8894-d73ec7161222",
   "metadata": {},
   "outputs": [],
   "source": []
  },
  {
   "cell_type": "markdown",
   "id": "ecbea60a-6e57-4179-bf81-51895b4e8772",
   "metadata": {},
   "source": [
    "## 10.1 Project Class"
   ]
  },
  {
   "cell_type": "code",
   "execution_count": null,
   "id": "354f2f39-531d-43e2-b042-e012fddb0319",
   "metadata": {},
   "outputs": [],
   "source": []
  },
  {
   "cell_type": "markdown",
   "id": "32ff2f76-29c2-4220-bab5-42a82d7606b2",
   "metadata": {},
   "source": [
    "## 10.2 API Handler"
   ]
  },
  {
   "cell_type": "code",
   "execution_count": null,
   "id": "0a3d4d80-4198-4e49-bb97-b03ec9a9bd3f",
   "metadata": {},
   "outputs": [],
   "source": []
  },
  {
   "cell_type": "markdown",
   "id": "a3ae5663-283d-439e-bcfb-1e511d21941c",
   "metadata": {},
   "source": [
    "## 10.3 API Tester"
   ]
  },
  {
   "cell_type": "code",
   "execution_count": null,
   "id": "a0edce8a-31e0-42e0-b886-6fe9a541c0db",
   "metadata": {},
   "outputs": [],
   "source": []
  }
 ],
 "metadata": {
  "kernelspec": {
   "display_name": "Python 3 (ipykernel)",
   "language": "python",
   "name": "python3"
  },
  "language_info": {
   "codemirror_mode": {
    "name": "ipython",
    "version": 3
   },
   "file_extension": ".py",
   "mimetype": "text/x-python",
   "name": "python",
   "nbconvert_exporter": "python",
   "pygments_lexer": "ipython3",
   "version": "3.12.0"
  }
 },
 "nbformat": 4,
 "nbformat_minor": 5
}
